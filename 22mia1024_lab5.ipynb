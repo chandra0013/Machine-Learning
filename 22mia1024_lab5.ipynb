{
  "cells": [
    {
      "cell_type": "code",
      "source": [
        "import pandas as pd\n",
        "import numpy as np\n",
        "\n",
        "df=pd.read_csv('/content/KDD_Train (1).csv')\n",
        "df"
      ],
      "outputs": [
        {
          "output_type": "execute_result",
          "execution_count": 31,
          "data": {
            "text/plain": "        duration protocol_type   service flag  src_bytes  dst_bytes  land  \\\n0              0           tcp  ftp_data   SF        491          0     0   \n1              0           udp     other   SF        146          0     0   \n2              0           tcp   private   S0          0          0     0   \n3              0           tcp      http   SF        232       8153     0   \n4              0           tcp      http   SF        199        420     0   \n...          ...           ...       ...  ...        ...        ...   ...   \n125968         0           tcp   private   S0          0          0     0   \n125969         8           udp   private   SF        105        145     0   \n125970         0           tcp      smtp   SF       2231        384     0   \n125971         0           tcp    klogin   S0          0          0     0   \n125972         0           tcp  ftp_data   SF        151          0     0   \n\n        wrong_fragment  urgent  hot  ...  dst_host_srv_count  \\\n0                    0       0    0  ...                  25   \n1                    0       0    0  ...                   1   \n2                    0       0    0  ...                  26   \n3                    0       0    0  ...                 255   \n4                    0       0    0  ...                 255   \n...                ...     ...  ...  ...                 ...   \n125968               0       0    0  ...                  25   \n125969               0       0    0  ...                 244   \n125970               0       0    0  ...                  30   \n125971               0       0    0  ...                   8   \n125972               0       0    0  ...                  77   \n\n        dst_host_same_srv_rate  dst_host_diff_srv_rate  \\\n0                         0.17                    0.03   \n1                         0.00                    0.60   \n2                         0.10                    0.05   \n3                         1.00                    0.00   \n4                         1.00                    0.00   \n...                        ...                     ...   \n125968                    0.10                    0.06   \n125969                    0.96                    0.01   \n125970                    0.12                    0.06   \n125971                    0.03                    0.05   \n125972                    0.30                    0.03   \n\n        dst_host_same_src_port_rate  dst_host_srv_diff_host_rate  \\\n0                              0.17                         0.00   \n1                              0.88                         0.00   \n2                              0.00                         0.00   \n3                              0.03                         0.04   \n4                              0.00                         0.00   \n...                             ...                          ...   \n125968                         0.00                         0.00   \n125969                         0.01                         0.00   \n125970                         0.00                         0.00   \n125971                         0.00                         0.00   \n125972                         0.30                         0.00   \n\n        dst_host_serror_rate  dst_host_srv_serror_rate  dst_host_rerror_rate  \\\n0                       0.00                      0.00                  0.05   \n1                       0.00                      0.00                  0.00   \n2                       1.00                      1.00                  0.00   \n3                       0.03                      0.01                  0.00   \n4                       0.00                      0.00                  0.00   \n...                      ...                       ...                   ...   \n125968                  1.00                      1.00                  0.00   \n125969                  0.00                      0.00                  0.00   \n125970                  0.72                      0.00                  0.01   \n125971                  1.00                      1.00                  0.00   \n125972                  0.00                      0.00                  0.00   \n\n        dst_host_srv_rerror_rate    class  \n0                           0.00   normal  \n1                           0.00   normal  \n2                           0.00  anomaly  \n3                           0.01   normal  \n4                           0.00   normal  \n...                          ...      ...  \n125968                      0.00  anomaly  \n125969                      0.00   normal  \n125970                      0.00   normal  \n125971                      0.00  anomaly  \n125972                      0.00   normal  \n\n[125973 rows x 42 columns]",
            "text/html": "\n  <div id=\"df-7eb7b996-38bb-47d0-9822-f009fb42737f\" class=\"colab-df-container\">\n    <div>\n<style scoped>\n    .dataframe tbody tr th:only-of-type {\n        vertical-align: middle;\n    }\n\n    .dataframe tbody tr th {\n        vertical-align: top;\n    }\n\n    .dataframe thead th {\n        text-align: right;\n    }\n</style>\n<table border=\"1\" class=\"dataframe\">\n  <thead>\n    <tr style=\"text-align: right;\">\n      <th></th>\n      <th>duration</th>\n      <th>protocol_type</th>\n      <th>service</th>\n      <th>flag</th>\n      <th>src_bytes</th>\n      <th>dst_bytes</th>\n      <th>land</th>\n      <th>wrong_fragment</th>\n      <th>urgent</th>\n      <th>hot</th>\n      <th>...</th>\n      <th>dst_host_srv_count</th>\n      <th>dst_host_same_srv_rate</th>\n      <th>dst_host_diff_srv_rate</th>\n      <th>dst_host_same_src_port_rate</th>\n      <th>dst_host_srv_diff_host_rate</th>\n      <th>dst_host_serror_rate</th>\n      <th>dst_host_srv_serror_rate</th>\n      <th>dst_host_rerror_rate</th>\n      <th>dst_host_srv_rerror_rate</th>\n      <th>class</th>\n    </tr>\n  </thead>\n  <tbody>\n    <tr>\n      <th>0</th>\n      <td>0</td>\n      <td>tcp</td>\n      <td>ftp_data</td>\n      <td>SF</td>\n      <td>491</td>\n      <td>0</td>\n      <td>0</td>\n      <td>0</td>\n      <td>0</td>\n      <td>0</td>\n      <td>...</td>\n      <td>25</td>\n      <td>0.17</td>\n      <td>0.03</td>\n      <td>0.17</td>\n      <td>0.00</td>\n      <td>0.00</td>\n      <td>0.00</td>\n      <td>0.05</td>\n      <td>0.00</td>\n      <td>normal</td>\n    </tr>\n    <tr>\n      <th>1</th>\n      <td>0</td>\n      <td>udp</td>\n      <td>other</td>\n      <td>SF</td>\n      <td>146</td>\n      <td>0</td>\n      <td>0</td>\n      <td>0</td>\n      <td>0</td>\n      <td>0</td>\n      <td>...</td>\n      <td>1</td>\n      <td>0.00</td>\n      <td>0.60</td>\n      <td>0.88</td>\n      <td>0.00</td>\n      <td>0.00</td>\n      <td>0.00</td>\n      <td>0.00</td>\n      <td>0.00</td>\n      <td>normal</td>\n    </tr>\n    <tr>\n      <th>2</th>\n      <td>0</td>\n      <td>tcp</td>\n      <td>private</td>\n      <td>S0</td>\n      <td>0</td>\n      <td>0</td>\n      <td>0</td>\n      <td>0</td>\n      <td>0</td>\n      <td>0</td>\n      <td>...</td>\n      <td>26</td>\n      <td>0.10</td>\n      <td>0.05</td>\n      <td>0.00</td>\n      <td>0.00</td>\n      <td>1.00</td>\n      <td>1.00</td>\n      <td>0.00</td>\n      <td>0.00</td>\n      <td>anomaly</td>\n    </tr>\n    <tr>\n      <th>3</th>\n      <td>0</td>\n      <td>tcp</td>\n      <td>http</td>\n      <td>SF</td>\n      <td>232</td>\n      <td>8153</td>\n      <td>0</td>\n      <td>0</td>\n      <td>0</td>\n      <td>0</td>\n      <td>...</td>\n      <td>255</td>\n      <td>1.00</td>\n      <td>0.00</td>\n      <td>0.03</td>\n      <td>0.04</td>\n      <td>0.03</td>\n      <td>0.01</td>\n      <td>0.00</td>\n      <td>0.01</td>\n      <td>normal</td>\n    </tr>\n    <tr>\n      <th>4</th>\n      <td>0</td>\n      <td>tcp</td>\n      <td>http</td>\n      <td>SF</td>\n      <td>199</td>\n      <td>420</td>\n      <td>0</td>\n      <td>0</td>\n      <td>0</td>\n      <td>0</td>\n      <td>...</td>\n      <td>255</td>\n      <td>1.00</td>\n      <td>0.00</td>\n      <td>0.00</td>\n      <td>0.00</td>\n      <td>0.00</td>\n      <td>0.00</td>\n      <td>0.00</td>\n      <td>0.00</td>\n      <td>normal</td>\n    </tr>\n    <tr>\n      <th>...</th>\n      <td>...</td>\n      <td>...</td>\n      <td>...</td>\n      <td>...</td>\n      <td>...</td>\n      <td>...</td>\n      <td>...</td>\n      <td>...</td>\n      <td>...</td>\n      <td>...</td>\n      <td>...</td>\n      <td>...</td>\n      <td>...</td>\n      <td>...</td>\n      <td>...</td>\n      <td>...</td>\n      <td>...</td>\n      <td>...</td>\n      <td>...</td>\n      <td>...</td>\n      <td>...</td>\n    </tr>\n    <tr>\n      <th>125968</th>\n      <td>0</td>\n      <td>tcp</td>\n      <td>private</td>\n      <td>S0</td>\n      <td>0</td>\n      <td>0</td>\n      <td>0</td>\n      <td>0</td>\n      <td>0</td>\n      <td>0</td>\n      <td>...</td>\n      <td>25</td>\n      <td>0.10</td>\n      <td>0.06</td>\n      <td>0.00</td>\n      <td>0.00</td>\n      <td>1.00</td>\n      <td>1.00</td>\n      <td>0.00</td>\n      <td>0.00</td>\n      <td>anomaly</td>\n    </tr>\n    <tr>\n      <th>125969</th>\n      <td>8</td>\n      <td>udp</td>\n      <td>private</td>\n      <td>SF</td>\n      <td>105</td>\n      <td>145</td>\n      <td>0</td>\n      <td>0</td>\n      <td>0</td>\n      <td>0</td>\n      <td>...</td>\n      <td>244</td>\n      <td>0.96</td>\n      <td>0.01</td>\n      <td>0.01</td>\n      <td>0.00</td>\n      <td>0.00</td>\n      <td>0.00</td>\n      <td>0.00</td>\n      <td>0.00</td>\n      <td>normal</td>\n    </tr>\n    <tr>\n      <th>125970</th>\n      <td>0</td>\n      <td>tcp</td>\n      <td>smtp</td>\n      <td>SF</td>\n      <td>2231</td>\n      <td>384</td>\n      <td>0</td>\n      <td>0</td>\n      <td>0</td>\n      <td>0</td>\n      <td>...</td>\n      <td>30</td>\n      <td>0.12</td>\n      <td>0.06</td>\n      <td>0.00</td>\n      <td>0.00</td>\n      <td>0.72</td>\n      <td>0.00</td>\n      <td>0.01</td>\n      <td>0.00</td>\n      <td>normal</td>\n    </tr>\n    <tr>\n      <th>125971</th>\n      <td>0</td>\n      <td>tcp</td>\n      <td>klogin</td>\n      <td>S0</td>\n      <td>0</td>\n      <td>0</td>\n      <td>0</td>\n      <td>0</td>\n      <td>0</td>\n      <td>0</td>\n      <td>...</td>\n      <td>8</td>\n      <td>0.03</td>\n      <td>0.05</td>\n      <td>0.00</td>\n      <td>0.00</td>\n      <td>1.00</td>\n      <td>1.00</td>\n      <td>0.00</td>\n      <td>0.00</td>\n      <td>anomaly</td>\n    </tr>\n    <tr>\n      <th>125972</th>\n      <td>0</td>\n      <td>tcp</td>\n      <td>ftp_data</td>\n      <td>SF</td>\n      <td>151</td>\n      <td>0</td>\n      <td>0</td>\n      <td>0</td>\n      <td>0</td>\n      <td>0</td>\n      <td>...</td>\n      <td>77</td>\n      <td>0.30</td>\n      <td>0.03</td>\n      <td>0.30</td>\n      <td>0.00</td>\n      <td>0.00</td>\n      <td>0.00</td>\n      <td>0.00</td>\n      <td>0.00</td>\n      <td>normal</td>\n    </tr>\n  </tbody>\n</table>\n<p>125973 rows × 42 columns</p>\n</div>\n    <div class=\"colab-df-buttons\">\n\n  <div class=\"colab-df-container\">\n    <button class=\"colab-df-convert\" onclick=\"convertToInteractive('df-7eb7b996-38bb-47d0-9822-f009fb42737f')\"\n            title=\"Convert this dataframe to an interactive table.\"\n            style=\"display:none;\">\n\n  <svg xmlns=\"http://www.w3.org/2000/svg\" height=\"24px\" viewBox=\"0 -960 960 960\">\n    <path d=\"M120-120v-720h720v720H120Zm60-500h600v-160H180v160Zm220 220h160v-160H400v160Zm0 220h160v-160H400v160ZM180-400h160v-160H180v160Zm440 0h160v-160H620v160ZM180-180h160v-160H180v160Zm440 0h160v-160H620v160Z\"/>\n  </svg>\n    </button>\n\n  <style>\n    .colab-df-container {\n      display:flex;\n      gap: 12px;\n    }\n\n    .colab-df-convert {\n      background-color: #E8F0FE;\n      border: none;\n      border-radius: 50%;\n      cursor: pointer;\n      display: none;\n      fill: #1967D2;\n      height: 32px;\n      padding: 0 0 0 0;\n      width: 32px;\n    }\n\n    .colab-df-convert:hover {\n      background-color: #E2EBFA;\n      box-shadow: 0px 1px 2px rgba(60, 64, 67, 0.3), 0px 1px 3px 1px rgba(60, 64, 67, 0.15);\n      fill: #174EA6;\n    }\n\n    .colab-df-buttons div {\n      margin-bottom: 4px;\n    }\n\n    [theme=dark] .colab-df-convert {\n      background-color: #3B4455;\n      fill: #D2E3FC;\n    }\n\n    [theme=dark] .colab-df-convert:hover {\n      background-color: #434B5C;\n      box-shadow: 0px 1px 3px 1px rgba(0, 0, 0, 0.15);\n      filter: drop-shadow(0px 1px 2px rgba(0, 0, 0, 0.3));\n      fill: #FFFFFF;\n    }\n  </style>\n\n    <script>\n      const buttonEl =\n        document.querySelector('#df-7eb7b996-38bb-47d0-9822-f009fb42737f button.colab-df-convert');\n      buttonEl.style.display =\n        google.colab.kernel.accessAllowed ? 'block' : 'none';\n\n      async function convertToInteractive(key) {\n        const element = document.querySelector('#df-7eb7b996-38bb-47d0-9822-f009fb42737f');\n        const dataTable =\n          await google.colab.kernel.invokeFunction('convertToInteractive',\n                                                    [key], {});\n        if (!dataTable) return;\n\n        const docLinkHtml = 'Like what you see? Visit the ' +\n          '<a target=\"_blank\" href=https://colab.research.google.com/notebooks/data_table.ipynb>data table notebook</a>'\n          + ' to learn more about interactive tables.';\n        element.innerHTML = '';\n        dataTable['output_type'] = 'display_data';\n        await google.colab.output.renderOutput(dataTable, element);\n        const docLink = document.createElement('div');\n        docLink.innerHTML = docLinkHtml;\n        element.appendChild(docLink);\n      }\n    </script>\n  </div>\n\n\n<div id=\"df-e3abe15a-5aec-4e6d-99d0-465af90e698c\">\n  <button class=\"colab-df-quickchart\" onclick=\"quickchart('df-e3abe15a-5aec-4e6d-99d0-465af90e698c')\"\n            title=\"Suggest charts\"\n            style=\"display:none;\">\n\n<svg xmlns=\"http://www.w3.org/2000/svg\" height=\"24px\"viewBox=\"0 0 24 24\"\n     width=\"24px\">\n    <g>\n        <path d=\"M19 3H5c-1.1 0-2 .9-2 2v14c0 1.1.9 2 2 2h14c1.1 0 2-.9 2-2V5c0-1.1-.9-2-2-2zM9 17H7v-7h2v7zm4 0h-2V7h2v10zm4 0h-2v-4h2v4z\"/>\n    </g>\n</svg>\n  </button>\n\n<style>\n  .colab-df-quickchart {\n      --bg-color: #E8F0FE;\n      --fill-color: #1967D2;\n      --hover-bg-color: #E2EBFA;\n      --hover-fill-color: #174EA6;\n      --disabled-fill-color: #AAA;\n      --disabled-bg-color: #DDD;\n  }\n\n  [theme=dark] .colab-df-quickchart {\n      --bg-color: #3B4455;\n      --fill-color: #D2E3FC;\n      --hover-bg-color: #434B5C;\n      --hover-fill-color: #FFFFFF;\n      --disabled-bg-color: #3B4455;\n      --disabled-fill-color: #666;\n  }\n\n  .colab-df-quickchart {\n    background-color: var(--bg-color);\n    border: none;\n    border-radius: 50%;\n    cursor: pointer;\n    display: none;\n    fill: var(--fill-color);\n    height: 32px;\n    padding: 0;\n    width: 32px;\n  }\n\n  .colab-df-quickchart:hover {\n    background-color: var(--hover-bg-color);\n    box-shadow: 0 1px 2px rgba(60, 64, 67, 0.3), 0 1px 3px 1px rgba(60, 64, 67, 0.15);\n    fill: var(--button-hover-fill-color);\n  }\n\n  .colab-df-quickchart-complete:disabled,\n  .colab-df-quickchart-complete:disabled:hover {\n    background-color: var(--disabled-bg-color);\n    fill: var(--disabled-fill-color);\n    box-shadow: none;\n  }\n\n  .colab-df-spinner {\n    border: 2px solid var(--fill-color);\n    border-color: transparent;\n    border-bottom-color: var(--fill-color);\n    animation:\n      spin 1s steps(1) infinite;\n  }\n\n  @keyframes spin {\n    0% {\n      border-color: transparent;\n      border-bottom-color: var(--fill-color);\n      border-left-color: var(--fill-color);\n    }\n    20% {\n      border-color: transparent;\n      border-left-color: var(--fill-color);\n      border-top-color: var(--fill-color);\n    }\n    30% {\n      border-color: transparent;\n      border-left-color: var(--fill-color);\n      border-top-color: var(--fill-color);\n      border-right-color: var(--fill-color);\n    }\n    40% {\n      border-color: transparent;\n      border-right-color: var(--fill-color);\n      border-top-color: var(--fill-color);\n    }\n    60% {\n      border-color: transparent;\n      border-right-color: var(--fill-color);\n    }\n    80% {\n      border-color: transparent;\n      border-right-color: var(--fill-color);\n      border-bottom-color: var(--fill-color);\n    }\n    90% {\n      border-color: transparent;\n      border-bottom-color: var(--fill-color);\n    }\n  }\n</style>\n\n  <script>\n    async function quickchart(key) {\n      const quickchartButtonEl =\n        document.querySelector('#' + key + ' button');\n      quickchartButtonEl.disabled = true;  // To prevent multiple clicks.\n      quickchartButtonEl.classList.add('colab-df-spinner');\n      try {\n        const charts = await google.colab.kernel.invokeFunction(\n            'suggestCharts', [key], {});\n      } catch (error) {\n        console.error('Error during call to suggestCharts:', error);\n      }\n      quickchartButtonEl.classList.remove('colab-df-spinner');\n      quickchartButtonEl.classList.add('colab-df-quickchart-complete');\n    }\n    (() => {\n      let quickchartButtonEl =\n        document.querySelector('#df-e3abe15a-5aec-4e6d-99d0-465af90e698c button');\n      quickchartButtonEl.style.display =\n        google.colab.kernel.accessAllowed ? 'block' : 'none';\n    })();\n  </script>\n</div>\n\n  <div id=\"id_820a6f1c-75ef-45c3-9249-218489506643\">\n    <style>\n      .colab-df-generate {\n        background-color: #E8F0FE;\n        border: none;\n        border-radius: 50%;\n        cursor: pointer;\n        display: none;\n        fill: #1967D2;\n        height: 32px;\n        padding: 0 0 0 0;\n        width: 32px;\n      }\n\n      .colab-df-generate:hover {\n        background-color: #E2EBFA;\n        box-shadow: 0px 1px 2px rgba(60, 64, 67, 0.3), 0px 1px 3px 1px rgba(60, 64, 67, 0.15);\n        fill: #174EA6;\n      }\n\n      [theme=dark] .colab-df-generate {\n        background-color: #3B4455;\n        fill: #D2E3FC;\n      }\n\n      [theme=dark] .colab-df-generate:hover {\n        background-color: #434B5C;\n        box-shadow: 0px 1px 3px 1px rgba(0, 0, 0, 0.15);\n        filter: drop-shadow(0px 1px 2px rgba(0, 0, 0, 0.3));\n        fill: #FFFFFF;\n      }\n    </style>\n    <button class=\"colab-df-generate\" onclick=\"generateWithVariable('df')\"\n            title=\"Generate code using this dataframe.\"\n            style=\"display:none;\">\n\n  <svg xmlns=\"http://www.w3.org/2000/svg\" height=\"24px\"viewBox=\"0 0 24 24\"\n       width=\"24px\">\n    <path d=\"M7,19H8.4L18.45,9,17,7.55,7,17.6ZM5,21V16.75L18.45,3.32a2,2,0,0,1,2.83,0l1.4,1.43a1.91,1.91,0,0,1,.58,1.4,1.91,1.91,0,0,1-.58,1.4L9.25,21ZM18.45,9,17,7.55Zm-12,3A5.31,5.31,0,0,0,4.9,8.1,5.31,5.31,0,0,0,1,6.5,5.31,5.31,0,0,0,4.9,4.9,5.31,5.31,0,0,0,6.5,1,5.31,5.31,0,0,0,8.1,4.9,5.31,5.31,0,0,0,12,6.5,5.46,5.46,0,0,0,6.5,12Z\"/>\n  </svg>\n    </button>\n    <script>\n      (() => {\n      const buttonEl =\n        document.querySelector('#id_820a6f1c-75ef-45c3-9249-218489506643 button.colab-df-generate');\n      buttonEl.style.display =\n        google.colab.kernel.accessAllowed ? 'block' : 'none';\n\n      buttonEl.onclick = () => {\n        google.colab.notebook.generateWithVariable('df');\n      }\n      })();\n    </script>\n  </div>\n\n    </div>\n  </div>\n",
            "application/vnd.google.colaboratory.intrinsic+json": {
              "type": "dataframe",
              "variable_name": "df"
            }
          },
          "metadata": {}
        }
      ],
      "execution_count": 31,
      "metadata": {
        "colab": {
          "base_uri": "https://localhost:8080/",
          "height": 444
        },
        "id": "6Auc27jLY2rp",
        "outputId": "5660725a-9a47-4326-a3f3-ed2303e35cfc"
      }
    },
    {
      "cell_type": "code",
      "source": [
        "df.replace(('normal','anomaly'), (0,1), inplace=True)"
      ],
      "outputs": [],
      "execution_count": 32,
      "metadata": {
        "id": "yDeUHJFtY_c5"
      }
    },
    {
      "cell_type": "code",
      "source": [
        "\n",
        "for column_name in df.columns:\n",
        "    if df[column_name].dtypes=='object':\n",
        "        a =df[column_name].unique()\n",
        "        a=len(a)\n",
        "        print(column_name+ \" has \"+ str(a) +\" unique values. \")"
      ],
      "outputs": [
        {
          "output_type": "stream",
          "name": "stdout",
          "text": "protocol_type has 3 unique values. \nservice has 70 unique values. \nflag has 11 unique values. \n"
        }
      ],
      "execution_count": 33,
      "metadata": {
        "colab": {
          "base_uri": "https://localhost:8080/"
        },
        "id": "tjz0Fsa-ZBWK",
        "outputId": "d80b845b-b8f3-426e-e211-3bad780680c0"
      }
    },
    {
      "cell_type": "code",
      "source": [
        "df['protocol_type'].head(5)"
      ],
      "outputs": [
        {
          "output_type": "execute_result",
          "execution_count": 34,
          "data": {
            "text/plain": "0    tcp\n1    udp\n2    tcp\n3    tcp\n4    tcp\nName: protocol_type, dtype: object",
            "text/html": "<div>\n<style scoped>\n    .dataframe tbody tr th:only-of-type {\n        vertical-align: middle;\n    }\n\n    .dataframe tbody tr th {\n        vertical-align: top;\n    }\n\n    .dataframe thead th {\n        text-align: right;\n    }\n</style>\n<table border=\"1\" class=\"dataframe\">\n  <thead>\n    <tr style=\"text-align: right;\">\n      <th></th>\n      <th>protocol_type</th>\n    </tr>\n  </thead>\n  <tbody>\n    <tr>\n      <th>0</th>\n      <td>tcp</td>\n    </tr>\n    <tr>\n      <th>1</th>\n      <td>udp</td>\n    </tr>\n    <tr>\n      <th>2</th>\n      <td>tcp</td>\n    </tr>\n    <tr>\n      <th>3</th>\n      <td>tcp</td>\n    </tr>\n    <tr>\n      <th>4</th>\n      <td>tcp</td>\n    </tr>\n  </tbody>\n</table>\n</div><br><label><b>dtype:</b> object</label>"
          },
          "metadata": {}
        }
      ],
      "execution_count": 34,
      "metadata": {
        "colab": {
          "base_uri": "https://localhost:8080/",
          "height": 241
        },
        "id": "Fu9nLBh3ZFaq",
        "outputId": "ce708e42-6e95-49f7-c002-c4040f9bf50c"
      }
    },
    {
      "cell_type": "code",
      "source": [
        "df['protocol_type'].value_counts()"
      ],
      "outputs": [
        {
          "output_type": "execute_result",
          "execution_count": 32,
          "data": {
            "text/plain": "protocol_type\ntcp     102689\nudp      14993\nicmp      8291\nName: count, dtype: int64",
            "text/html": "<div>\n<style scoped>\n    .dataframe tbody tr th:only-of-type {\n        vertical-align: middle;\n    }\n\n    .dataframe tbody tr th {\n        vertical-align: top;\n    }\n\n    .dataframe thead th {\n        text-align: right;\n    }\n</style>\n<table border=\"1\" class=\"dataframe\">\n  <thead>\n    <tr style=\"text-align: right;\">\n      <th></th>\n      <th>count</th>\n    </tr>\n    <tr>\n      <th>protocol_type</th>\n      <th></th>\n    </tr>\n  </thead>\n  <tbody>\n    <tr>\n      <th>tcp</th>\n      <td>102689</td>\n    </tr>\n    <tr>\n      <th>udp</th>\n      <td>14993</td>\n    </tr>\n    <tr>\n      <th>icmp</th>\n      <td>8291</td>\n    </tr>\n  </tbody>\n</table>\n</div><br><label><b>dtype:</b> int64</label>"
          },
          "metadata": {}
        }
      ],
      "execution_count": null,
      "metadata": {
        "colab": {
          "base_uri": "https://localhost:8080/",
          "height": 210
        },
        "id": "9wL_vAuli7cI",
        "outputId": "87407dae-9cc7-459f-dc53-6d67f97c9bbb"
      }
    },
    {
      "cell_type": "code",
      "source": [
        "print(pd.get_dummies(df['protocol_type']).head(5))"
      ],
      "outputs": [
        {
          "output_type": "stream",
          "name": "stdout",
          "text": "    icmp    tcp    udp\n0  False   True  False\n1  False  False   True\n2  False   True  False\n3  False   True  False\n4  False   True  False\n"
        }
      ],
      "execution_count": 35,
      "metadata": {
        "colab": {
          "base_uri": "https://localhost:8080/"
        },
        "id": "QB6Qy7HyZLhc",
        "outputId": "0b4bdec8-54cc-4356-f07e-f8255407fdd3"
      }
    },
    {
      "cell_type": "code",
      "source": [
        "def dummy_df(df):\n",
        "    todummy_list = ['protocol_type', 'service','flag']\n",
        "    for x in todummy_list:\n",
        "        dummies=pd.get_dummies(df[x],dummy_na=False)\n",
        "        df = df.drop(x,axis= 1)\n",
        "        df = pd.concat([df, dummies], axis=1)\n",
        "    return df"
      ],
      "outputs": [],
      "execution_count": 36,
      "metadata": {
        "id": "QK9qyL7wZMKy"
      }
    },
    {
      "cell_type": "code",
      "source": [
        "df = dummy_df(df)\n",
        "df.head(5)"
      ],
      "outputs": [
        {
          "output_type": "execute_result",
          "execution_count": 37,
          "data": {
            "text/plain": "   duration  src_bytes  dst_bytes  land  wrong_fragment  urgent  hot  \\\n0         0        491          0     0               0       0    0   \n1         0        146          0     0               0       0    0   \n2         0          0          0     0               0       0    0   \n3         0        232       8153     0               0       0    0   \n4         0        199        420     0               0       0    0   \n\n   num_failed_logins  logged_in  num_compromised  ...    REJ   RSTO  RSTOS0  \\\n0                  0          0                0  ...  False  False   False   \n1                  0          0                0  ...  False  False   False   \n2                  0          0                0  ...  False  False   False   \n3                  0          1                0  ...  False  False   False   \n4                  0          1                0  ...  False  False   False   \n\n    RSTR     S0     S1     S2     S3     SF     SH  \n0  False  False  False  False  False   True  False  \n1  False  False  False  False  False   True  False  \n2  False   True  False  False  False  False  False  \n3  False  False  False  False  False   True  False  \n4  False  False  False  False  False   True  False  \n\n[5 rows x 123 columns]",
            "text/html": "\n  <div id=\"df-1517e523-87b7-4e3e-aab2-baf0b7d9bebe\" class=\"colab-df-container\">\n    <div>\n<style scoped>\n    .dataframe tbody tr th:only-of-type {\n        vertical-align: middle;\n    }\n\n    .dataframe tbody tr th {\n        vertical-align: top;\n    }\n\n    .dataframe thead th {\n        text-align: right;\n    }\n</style>\n<table border=\"1\" class=\"dataframe\">\n  <thead>\n    <tr style=\"text-align: right;\">\n      <th></th>\n      <th>duration</th>\n      <th>src_bytes</th>\n      <th>dst_bytes</th>\n      <th>land</th>\n      <th>wrong_fragment</th>\n      <th>urgent</th>\n      <th>hot</th>\n      <th>num_failed_logins</th>\n      <th>logged_in</th>\n      <th>num_compromised</th>\n      <th>...</th>\n      <th>REJ</th>\n      <th>RSTO</th>\n      <th>RSTOS0</th>\n      <th>RSTR</th>\n      <th>S0</th>\n      <th>S1</th>\n      <th>S2</th>\n      <th>S3</th>\n      <th>SF</th>\n      <th>SH</th>\n    </tr>\n  </thead>\n  <tbody>\n    <tr>\n      <th>0</th>\n      <td>0</td>\n      <td>491</td>\n      <td>0</td>\n      <td>0</td>\n      <td>0</td>\n      <td>0</td>\n      <td>0</td>\n      <td>0</td>\n      <td>0</td>\n      <td>0</td>\n      <td>...</td>\n      <td>False</td>\n      <td>False</td>\n      <td>False</td>\n      <td>False</td>\n      <td>False</td>\n      <td>False</td>\n      <td>False</td>\n      <td>False</td>\n      <td>True</td>\n      <td>False</td>\n    </tr>\n    <tr>\n      <th>1</th>\n      <td>0</td>\n      <td>146</td>\n      <td>0</td>\n      <td>0</td>\n      <td>0</td>\n      <td>0</td>\n      <td>0</td>\n      <td>0</td>\n      <td>0</td>\n      <td>0</td>\n      <td>...</td>\n      <td>False</td>\n      <td>False</td>\n      <td>False</td>\n      <td>False</td>\n      <td>False</td>\n      <td>False</td>\n      <td>False</td>\n      <td>False</td>\n      <td>True</td>\n      <td>False</td>\n    </tr>\n    <tr>\n      <th>2</th>\n      <td>0</td>\n      <td>0</td>\n      <td>0</td>\n      <td>0</td>\n      <td>0</td>\n      <td>0</td>\n      <td>0</td>\n      <td>0</td>\n      <td>0</td>\n      <td>0</td>\n      <td>...</td>\n      <td>False</td>\n      <td>False</td>\n      <td>False</td>\n      <td>False</td>\n      <td>True</td>\n      <td>False</td>\n      <td>False</td>\n      <td>False</td>\n      <td>False</td>\n      <td>False</td>\n    </tr>\n    <tr>\n      <th>3</th>\n      <td>0</td>\n      <td>232</td>\n      <td>8153</td>\n      <td>0</td>\n      <td>0</td>\n      <td>0</td>\n      <td>0</td>\n      <td>0</td>\n      <td>1</td>\n      <td>0</td>\n      <td>...</td>\n      <td>False</td>\n      <td>False</td>\n      <td>False</td>\n      <td>False</td>\n      <td>False</td>\n      <td>False</td>\n      <td>False</td>\n      <td>False</td>\n      <td>True</td>\n      <td>False</td>\n    </tr>\n    <tr>\n      <th>4</th>\n      <td>0</td>\n      <td>199</td>\n      <td>420</td>\n      <td>0</td>\n      <td>0</td>\n      <td>0</td>\n      <td>0</td>\n      <td>0</td>\n      <td>1</td>\n      <td>0</td>\n      <td>...</td>\n      <td>False</td>\n      <td>False</td>\n      <td>False</td>\n      <td>False</td>\n      <td>False</td>\n      <td>False</td>\n      <td>False</td>\n      <td>False</td>\n      <td>True</td>\n      <td>False</td>\n    </tr>\n  </tbody>\n</table>\n<p>5 rows × 123 columns</p>\n</div>\n    <div class=\"colab-df-buttons\">\n\n  <div class=\"colab-df-container\">\n    <button class=\"colab-df-convert\" onclick=\"convertToInteractive('df-1517e523-87b7-4e3e-aab2-baf0b7d9bebe')\"\n            title=\"Convert this dataframe to an interactive table.\"\n            style=\"display:none;\">\n\n  <svg xmlns=\"http://www.w3.org/2000/svg\" height=\"24px\" viewBox=\"0 -960 960 960\">\n    <path d=\"M120-120v-720h720v720H120Zm60-500h600v-160H180v160Zm220 220h160v-160H400v160Zm0 220h160v-160H400v160ZM180-400h160v-160H180v160Zm440 0h160v-160H620v160ZM180-180h160v-160H180v160Zm440 0h160v-160H620v160Z\"/>\n  </svg>\n    </button>\n\n  <style>\n    .colab-df-container {\n      display:flex;\n      gap: 12px;\n    }\n\n    .colab-df-convert {\n      background-color: #E8F0FE;\n      border: none;\n      border-radius: 50%;\n      cursor: pointer;\n      display: none;\n      fill: #1967D2;\n      height: 32px;\n      padding: 0 0 0 0;\n      width: 32px;\n    }\n\n    .colab-df-convert:hover {\n      background-color: #E2EBFA;\n      box-shadow: 0px 1px 2px rgba(60, 64, 67, 0.3), 0px 1px 3px 1px rgba(60, 64, 67, 0.15);\n      fill: #174EA6;\n    }\n\n    .colab-df-buttons div {\n      margin-bottom: 4px;\n    }\n\n    [theme=dark] .colab-df-convert {\n      background-color: #3B4455;\n      fill: #D2E3FC;\n    }\n\n    [theme=dark] .colab-df-convert:hover {\n      background-color: #434B5C;\n      box-shadow: 0px 1px 3px 1px rgba(0, 0, 0, 0.15);\n      filter: drop-shadow(0px 1px 2px rgba(0, 0, 0, 0.3));\n      fill: #FFFFFF;\n    }\n  </style>\n\n    <script>\n      const buttonEl =\n        document.querySelector('#df-1517e523-87b7-4e3e-aab2-baf0b7d9bebe button.colab-df-convert');\n      buttonEl.style.display =\n        google.colab.kernel.accessAllowed ? 'block' : 'none';\n\n      async function convertToInteractive(key) {\n        const element = document.querySelector('#df-1517e523-87b7-4e3e-aab2-baf0b7d9bebe');\n        const dataTable =\n          await google.colab.kernel.invokeFunction('convertToInteractive',\n                                                    [key], {});\n        if (!dataTable) return;\n\n        const docLinkHtml = 'Like what you see? Visit the ' +\n          '<a target=\"_blank\" href=https://colab.research.google.com/notebooks/data_table.ipynb>data table notebook</a>'\n          + ' to learn more about interactive tables.';\n        element.innerHTML = '';\n        dataTable['output_type'] = 'display_data';\n        await google.colab.output.renderOutput(dataTable, element);\n        const docLink = document.createElement('div');\n        docLink.innerHTML = docLinkHtml;\n        element.appendChild(docLink);\n      }\n    </script>\n  </div>\n\n\n<div id=\"df-48ff6f7c-4226-4f94-a158-c9accb6052c7\">\n  <button class=\"colab-df-quickchart\" onclick=\"quickchart('df-48ff6f7c-4226-4f94-a158-c9accb6052c7')\"\n            title=\"Suggest charts\"\n            style=\"display:none;\">\n\n<svg xmlns=\"http://www.w3.org/2000/svg\" height=\"24px\"viewBox=\"0 0 24 24\"\n     width=\"24px\">\n    <g>\n        <path d=\"M19 3H5c-1.1 0-2 .9-2 2v14c0 1.1.9 2 2 2h14c1.1 0 2-.9 2-2V5c0-1.1-.9-2-2-2zM9 17H7v-7h2v7zm4 0h-2V7h2v10zm4 0h-2v-4h2v4z\"/>\n    </g>\n</svg>\n  </button>\n\n<style>\n  .colab-df-quickchart {\n      --bg-color: #E8F0FE;\n      --fill-color: #1967D2;\n      --hover-bg-color: #E2EBFA;\n      --hover-fill-color: #174EA6;\n      --disabled-fill-color: #AAA;\n      --disabled-bg-color: #DDD;\n  }\n\n  [theme=dark] .colab-df-quickchart {\n      --bg-color: #3B4455;\n      --fill-color: #D2E3FC;\n      --hover-bg-color: #434B5C;\n      --hover-fill-color: #FFFFFF;\n      --disabled-bg-color: #3B4455;\n      --disabled-fill-color: #666;\n  }\n\n  .colab-df-quickchart {\n    background-color: var(--bg-color);\n    border: none;\n    border-radius: 50%;\n    cursor: pointer;\n    display: none;\n    fill: var(--fill-color);\n    height: 32px;\n    padding: 0;\n    width: 32px;\n  }\n\n  .colab-df-quickchart:hover {\n    background-color: var(--hover-bg-color);\n    box-shadow: 0 1px 2px rgba(60, 64, 67, 0.3), 0 1px 3px 1px rgba(60, 64, 67, 0.15);\n    fill: var(--button-hover-fill-color);\n  }\n\n  .colab-df-quickchart-complete:disabled,\n  .colab-df-quickchart-complete:disabled:hover {\n    background-color: var(--disabled-bg-color);\n    fill: var(--disabled-fill-color);\n    box-shadow: none;\n  }\n\n  .colab-df-spinner {\n    border: 2px solid var(--fill-color);\n    border-color: transparent;\n    border-bottom-color: var(--fill-color);\n    animation:\n      spin 1s steps(1) infinite;\n  }\n\n  @keyframes spin {\n    0% {\n      border-color: transparent;\n      border-bottom-color: var(--fill-color);\n      border-left-color: var(--fill-color);\n    }\n    20% {\n      border-color: transparent;\n      border-left-color: var(--fill-color);\n      border-top-color: var(--fill-color);\n    }\n    30% {\n      border-color: transparent;\n      border-left-color: var(--fill-color);\n      border-top-color: var(--fill-color);\n      border-right-color: var(--fill-color);\n    }\n    40% {\n      border-color: transparent;\n      border-right-color: var(--fill-color);\n      border-top-color: var(--fill-color);\n    }\n    60% {\n      border-color: transparent;\n      border-right-color: var(--fill-color);\n    }\n    80% {\n      border-color: transparent;\n      border-right-color: var(--fill-color);\n      border-bottom-color: var(--fill-color);\n    }\n    90% {\n      border-color: transparent;\n      border-bottom-color: var(--fill-color);\n    }\n  }\n</style>\n\n  <script>\n    async function quickchart(key) {\n      const quickchartButtonEl =\n        document.querySelector('#' + key + ' button');\n      quickchartButtonEl.disabled = true;  // To prevent multiple clicks.\n      quickchartButtonEl.classList.add('colab-df-spinner');\n      try {\n        const charts = await google.colab.kernel.invokeFunction(\n            'suggestCharts', [key], {});\n      } catch (error) {\n        console.error('Error during call to suggestCharts:', error);\n      }\n      quickchartButtonEl.classList.remove('colab-df-spinner');\n      quickchartButtonEl.classList.add('colab-df-quickchart-complete');\n    }\n    (() => {\n      let quickchartButtonEl =\n        document.querySelector('#df-48ff6f7c-4226-4f94-a158-c9accb6052c7 button');\n      quickchartButtonEl.style.display =\n        google.colab.kernel.accessAllowed ? 'block' : 'none';\n    })();\n  </script>\n</div>\n\n    </div>\n  </div>\n",
            "application/vnd.google.colaboratory.intrinsic+json": {
              "type": "dataframe",
              "variable_name": "df"
            }
          },
          "metadata": {}
        }
      ],
      "execution_count": 37,
      "metadata": {
        "colab": {
          "base_uri": "https://localhost:8080/",
          "height": 236
        },
        "id": "ZQBQ28Y9ZO6K",
        "outputId": "10cc4b6a-d8dd-4dc2-e1bd-da60b9463855"
      }
    },
    {
      "cell_type": "code",
      "source": [
        "import numpy as np\n",
        "from sklearn.impute import SimpleImputer\n",
        "imr = SimpleImputer(missing_values=np.nan, strategy='median')\n",
        "imr.fit(df)\n",
        "df = pd.DataFrame(data=imr.transform(df), columns=df.columns)"
      ],
      "outputs": [],
      "execution_count": 38,
      "metadata": {
        "id": "-7fKdR8AZRLa"
      }
    },
    {
      "cell_type": "code",
      "source": [
        "df.isnull().sum().sort_values(ascending=False)"
      ],
      "outputs": [
        {
          "output_type": "execute_result",
          "execution_count": 39,
          "data": {
            "text/plain": "duration                       0\nred_i                          0\nprinter                        0\npop_3                          0\npop_2                          0\n                              ..\ndst_host_rerror_rate           0\ndst_host_srv_serror_rate       0\ndst_host_serror_rate           0\ndst_host_srv_diff_host_rate    0\nSH                             0\nLength: 123, dtype: int64",
            "text/html": "<div>\n<style scoped>\n    .dataframe tbody tr th:only-of-type {\n        vertical-align: middle;\n    }\n\n    .dataframe tbody tr th {\n        vertical-align: top;\n    }\n\n    .dataframe thead th {\n        text-align: right;\n    }\n</style>\n<table border=\"1\" class=\"dataframe\">\n  <thead>\n    <tr style=\"text-align: right;\">\n      <th></th>\n      <th>0</th>\n    </tr>\n  </thead>\n  <tbody>\n    <tr>\n      <th>duration</th>\n      <td>0</td>\n    </tr>\n    <tr>\n      <th>red_i</th>\n      <td>0</td>\n    </tr>\n    <tr>\n      <th>printer</th>\n      <td>0</td>\n    </tr>\n    <tr>\n      <th>pop_3</th>\n      <td>0</td>\n    </tr>\n    <tr>\n      <th>pop_2</th>\n      <td>0</td>\n    </tr>\n    <tr>\n      <th>...</th>\n      <td>...</td>\n    </tr>\n    <tr>\n      <th>dst_host_rerror_rate</th>\n      <td>0</td>\n    </tr>\n    <tr>\n      <th>dst_host_srv_serror_rate</th>\n      <td>0</td>\n    </tr>\n    <tr>\n      <th>dst_host_serror_rate</th>\n      <td>0</td>\n    </tr>\n    <tr>\n      <th>dst_host_srv_diff_host_rate</th>\n      <td>0</td>\n    </tr>\n    <tr>\n      <th>SH</th>\n      <td>0</td>\n    </tr>\n  </tbody>\n</table>\n<p>123 rows × 1 columns</p>\n</div><br><label><b>dtype:</b> int64</label>"
          },
          "metadata": {}
        }
      ],
      "execution_count": 39,
      "metadata": {
        "colab": {
          "base_uri": "https://localhost:8080/",
          "height": 458
        },
        "id": "9_GbnYpQZUji",
        "outputId": "ea0b4ea1-7627-4a03-c23f-f5cb5d029507"
      }
    },
    {
      "cell_type": "code",
      "source": [
        "x = df.drop ('class',axis= 1)\n",
        "y = df['class']"
      ],
      "outputs": [],
      "execution_count": 40,
      "metadata": {
        "id": "4wyEJsB6ZYra"
      }
    },
    {
      "cell_type": "code",
      "source": [
        "from sklearn.model_selection import train_test_split\n",
        "\n",
        "x_train, x_test, y_train, y_test = train_test_split(x, y, test_size=0.3, random_state=1, stratify=y)"
      ],
      "outputs": [],
      "execution_count": 41,
      "metadata": {
        "id": "lpPHtqqmZawi"
      }
    },
    {
      "cell_type": "code",
      "source": [
        "print('Labels count in y:', np.bincount(y))\n",
        "print('Labels count in y_train:', np.bincount(y_train))\n",
        "print('Labels count in y_test:', np.bincount(y_test))"
      ],
      "outputs": [
        {
          "output_type": "stream",
          "name": "stdout",
          "text": "Labels count in y: [67343 58630]\nLabels count in y_train: [47140 41041]\nLabels count in y_test: [20203 17589]\n"
        }
      ],
      "execution_count": 42,
      "metadata": {
        "colab": {
          "base_uri": "https://localhost:8080/"
        },
        "id": "ZfQlCtMdZceq",
        "outputId": "3cfd1def-5557-4d5c-8361-fd12d523498b"
      }
    },
    {
      "cell_type": "code",
      "source": [
        "from sklearn.preprocessing import StandardScaler\n",
        "\n",
        "sc = StandardScaler()\n",
        "sc.fit(x_train)\n",
        "x_train_std = sc.transform(x_train)\n",
        "x_test_std = sc.transform(x_test)"
      ],
      "outputs": [],
      "execution_count": 43,
      "metadata": {
        "id": "c2n5X502ZeP6"
      }
    },
    {
      "cell_type": "code",
      "source": [
        "from sklearn.linear_model import Perceptron\n",
        "\n",
        "ppn = Perceptron(eta0=0.1, random_state=1)\n",
        "ppn.fit(x_train_std, y_train)"
      ],
      "outputs": [
        {
          "output_type": "execute_result",
          "execution_count": 44,
          "data": {
            "text/plain": "Perceptron(eta0=0.1, random_state=1)",
            "text/html": "<style>#sk-container-id-2 {color: black;}#sk-container-id-2 pre{padding: 0;}#sk-container-id-2 div.sk-toggleable {background-color: white;}#sk-container-id-2 label.sk-toggleable__label {cursor: pointer;display: block;width: 100%;margin-bottom: 0;padding: 0.3em;box-sizing: border-box;text-align: center;}#sk-container-id-2 label.sk-toggleable__label-arrow:before {content: \"▸\";float: left;margin-right: 0.25em;color: #696969;}#sk-container-id-2 label.sk-toggleable__label-arrow:hover:before {color: black;}#sk-container-id-2 div.sk-estimator:hover label.sk-toggleable__label-arrow:before {color: black;}#sk-container-id-2 div.sk-toggleable__content {max-height: 0;max-width: 0;overflow: hidden;text-align: left;background-color: #f0f8ff;}#sk-container-id-2 div.sk-toggleable__content pre {margin: 0.2em;color: black;border-radius: 0.25em;background-color: #f0f8ff;}#sk-container-id-2 input.sk-toggleable__control:checked~div.sk-toggleable__content {max-height: 200px;max-width: 100%;overflow: auto;}#sk-container-id-2 input.sk-toggleable__control:checked~label.sk-toggleable__label-arrow:before {content: \"▾\";}#sk-container-id-2 div.sk-estimator input.sk-toggleable__control:checked~label.sk-toggleable__label {background-color: #d4ebff;}#sk-container-id-2 div.sk-label input.sk-toggleable__control:checked~label.sk-toggleable__label {background-color: #d4ebff;}#sk-container-id-2 input.sk-hidden--visually {border: 0;clip: rect(1px 1px 1px 1px);clip: rect(1px, 1px, 1px, 1px);height: 1px;margin: -1px;overflow: hidden;padding: 0;position: absolute;width: 1px;}#sk-container-id-2 div.sk-estimator {font-family: monospace;background-color: #f0f8ff;border: 1px dotted black;border-radius: 0.25em;box-sizing: border-box;margin-bottom: 0.5em;}#sk-container-id-2 div.sk-estimator:hover {background-color: #d4ebff;}#sk-container-id-2 div.sk-parallel-item::after {content: \"\";width: 100%;border-bottom: 1px solid gray;flex-grow: 1;}#sk-container-id-2 div.sk-label:hover label.sk-toggleable__label {background-color: #d4ebff;}#sk-container-id-2 div.sk-serial::before {content: \"\";position: absolute;border-left: 1px solid gray;box-sizing: border-box;top: 0;bottom: 0;left: 50%;z-index: 0;}#sk-container-id-2 div.sk-serial {display: flex;flex-direction: column;align-items: center;background-color: white;padding-right: 0.2em;padding-left: 0.2em;position: relative;}#sk-container-id-2 div.sk-item {position: relative;z-index: 1;}#sk-container-id-2 div.sk-parallel {display: flex;align-items: stretch;justify-content: center;background-color: white;position: relative;}#sk-container-id-2 div.sk-item::before, #sk-container-id-2 div.sk-parallel-item::before {content: \"\";position: absolute;border-left: 1px solid gray;box-sizing: border-box;top: 0;bottom: 0;left: 50%;z-index: -1;}#sk-container-id-2 div.sk-parallel-item {display: flex;flex-direction: column;z-index: 1;position: relative;background-color: white;}#sk-container-id-2 div.sk-parallel-item:first-child::after {align-self: flex-end;width: 50%;}#sk-container-id-2 div.sk-parallel-item:last-child::after {align-self: flex-start;width: 50%;}#sk-container-id-2 div.sk-parallel-item:only-child::after {width: 0;}#sk-container-id-2 div.sk-dashed-wrapped {border: 1px dashed gray;margin: 0 0.4em 0.5em 0.4em;box-sizing: border-box;padding-bottom: 0.4em;background-color: white;}#sk-container-id-2 div.sk-label label {font-family: monospace;font-weight: bold;display: inline-block;line-height: 1.2em;}#sk-container-id-2 div.sk-label-container {text-align: center;}#sk-container-id-2 div.sk-container {/* jupyter's `normalize.less` sets `[hidden] { display: none; }` but bootstrap.min.css set `[hidden] { display: none !important; }` so we also need the `!important` here to be able to override the default hidden behavior on the sphinx rendered scikit-learn.org. See: https://github.com/scikit-learn/scikit-learn/issues/21755 */display: inline-block !important;position: relative;}#sk-container-id-2 div.sk-text-repr-fallback {display: none;}</style><div id=\"sk-container-id-2\" class=\"sk-top-container\"><div class=\"sk-text-repr-fallback\"><pre>Perceptron(eta0=0.1, random_state=1)</pre><b>In a Jupyter environment, please rerun this cell to show the HTML representation or trust the notebook. <br />On GitHub, the HTML representation is unable to render, please try loading this page with nbviewer.org.</b></div><div class=\"sk-container\" hidden><div class=\"sk-item\"><div class=\"sk-estimator sk-toggleable\"><input class=\"sk-toggleable__control sk-hidden--visually\" id=\"sk-estimator-id-2\" type=\"checkbox\" checked><label for=\"sk-estimator-id-2\" class=\"sk-toggleable__label sk-toggleable__label-arrow\">Perceptron</label><div class=\"sk-toggleable__content\"><pre>Perceptron(eta0=0.1, random_state=1)</pre></div></div></div></div></div>"
          },
          "metadata": {}
        }
      ],
      "execution_count": 44,
      "metadata": {
        "colab": {
          "base_uri": "https://localhost:8080/",
          "height": 75
        },
        "id": "-yWN0V8hZh7K",
        "outputId": "b1d9affe-b696-41cd-e55a-19a67e0441b3"
      }
    },
    {
      "cell_type": "code",
      "source": [
        "help(Perceptron)"
      ],
      "outputs": [
        {
          "output_type": "stream",
          "name": "stdout",
          "text": "Help on class Perceptron in module sklearn.linear_model._perceptron:\n\nclass Perceptron(sklearn.linear_model._stochastic_gradient.BaseSGDClassifier)\n |  Perceptron(*, penalty=None, alpha=0.0001, l1_ratio=0.15, fit_intercept=True, max_iter=1000, tol=0.001, shuffle=True, verbose=0, eta0=1.0, n_jobs=None, random_state=0, early_stopping=False, validation_fraction=0.1, n_iter_no_change=5, class_weight=None, warm_start=False)\n |  \n |  Linear perceptron classifier.\n |  \n |  Read more in the :ref:`User Guide <perceptron>`.\n |  \n |  Parameters\n |  ----------\n |  \n |  penalty : {'l2','l1','elasticnet'}, default=None\n |      The penalty (aka regularization term) to be used.\n |  \n |  alpha : float, default=0.0001\n |      Constant that multiplies the regularization term if regularization is\n |      used.\n |  \n |  l1_ratio : float, default=0.15\n |      The Elastic Net mixing parameter, with `0 <= l1_ratio <= 1`.\n |      `l1_ratio=0` corresponds to L2 penalty, `l1_ratio=1` to L1.\n |      Only used if `penalty='elasticnet'`.\n |  \n |      .. versionadded:: 0.24\n |  \n |  fit_intercept : bool, default=True\n |      Whether the intercept should be estimated or not. If False, the\n |      data is assumed to be already centered.\n |  \n |  max_iter : int, default=1000\n |      The maximum number of passes over the training data (aka epochs).\n |      It only impacts the behavior in the ``fit`` method, and not the\n |      :meth:`partial_fit` method.\n |  \n |      .. versionadded:: 0.19\n |  \n |  tol : float or None, default=1e-3\n |      The stopping criterion. If it is not None, the iterations will stop\n |      when (loss > previous_loss - tol).\n |  \n |      .. versionadded:: 0.19\n |  \n |  shuffle : bool, default=True\n |      Whether or not the training data should be shuffled after each epoch.\n |  \n |  verbose : int, default=0\n |      The verbosity level.\n |  \n |  eta0 : float, default=1\n |      Constant by which the updates are multiplied.\n |  \n |  n_jobs : int, default=None\n |      The number of CPUs to use to do the OVA (One Versus All, for\n |      multi-class problems) computation.\n |      ``None`` means 1 unless in a :obj:`joblib.parallel_backend` context.\n |      ``-1`` means using all processors. See :term:`Glossary <n_jobs>`\n |      for more details.\n |  \n |  random_state : int, RandomState instance or None, default=0\n |      Used to shuffle the training data, when ``shuffle`` is set to\n |      ``True``. Pass an int for reproducible output across multiple\n |      function calls.\n |      See :term:`Glossary <random_state>`.\n |  \n |  early_stopping : bool, default=False\n |      Whether to use early stopping to terminate training when validation.\n |      score is not improving. If set to True, it will automatically set aside\n |      a stratified fraction of training data as validation and terminate\n |      training when validation score is not improving by at least tol for\n |      n_iter_no_change consecutive epochs.\n |  \n |      .. versionadded:: 0.20\n |  \n |  validation_fraction : float, default=0.1\n |      The proportion of training data to set aside as validation set for\n |      early stopping. Must be between 0 and 1.\n |      Only used if early_stopping is True.\n |  \n |      .. versionadded:: 0.20\n |  \n |  n_iter_no_change : int, default=5\n |      Number of iterations with no improvement to wait before early stopping.\n |  \n |      .. versionadded:: 0.20\n |  \n |  class_weight : dict, {class_label: weight} or \"balanced\", default=None\n |      Preset for the class_weight fit parameter.\n |  \n |      Weights associated with classes. If not given, all classes\n |      are supposed to have weight one.\n |  \n |      The \"balanced\" mode uses the values of y to automatically adjust\n |      weights inversely proportional to class frequencies in the input data\n |      as ``n_samples / (n_classes * np.bincount(y))``.\n |  \n |  warm_start : bool, default=False\n |      When set to True, reuse the solution of the previous call to fit as\n |      initialization, otherwise, just erase the previous solution. See\n |      :term:`the Glossary <warm_start>`.\n |  \n |  Attributes\n |  ----------\n |  classes_ : ndarray of shape (n_classes,)\n |      The unique classes labels.\n |  \n |  coef_ : ndarray of shape (1, n_features) if n_classes == 2 else             (n_classes, n_features)\n |      Weights assigned to the features.\n |  \n |  intercept_ : ndarray of shape (1,) if n_classes == 2 else (n_classes,)\n |      Constants in decision function.\n |  \n |  loss_function_ : concrete LossFunction\n |      The function that determines the loss, or difference between the\n |      output of the algorithm and the target values.\n |  \n |  n_features_in_ : int\n |      Number of features seen during :term:`fit`.\n |  \n |      .. versionadded:: 0.24\n |  \n |  feature_names_in_ : ndarray of shape (`n_features_in_`,)\n |      Names of features seen during :term:`fit`. Defined only when `X`\n |      has feature names that are all strings.\n |  \n |      .. versionadded:: 1.0\n |  \n |  n_iter_ : int\n |      The actual number of iterations to reach the stopping criterion.\n |      For multiclass fits, it is the maximum over every binary fit.\n |  \n |  t_ : int\n |      Number of weight updates performed during training.\n |      Same as ``(n_iter_ * n_samples + 1)``.\n |  \n |  See Also\n |  --------\n |  sklearn.linear_model.SGDClassifier : Linear classifiers\n |      (SVM, logistic regression, etc.) with SGD training.\n |  \n |  Notes\n |  -----\n |  ``Perceptron`` is a classification algorithm which shares the same\n |  underlying implementation with ``SGDClassifier``. In fact,\n |  ``Perceptron()`` is equivalent to `SGDClassifier(loss=\"perceptron\",\n |  eta0=1, learning_rate=\"constant\", penalty=None)`.\n |  \n |  References\n |  ----------\n |  https://en.wikipedia.org/wiki/Perceptron and references therein.\n |  \n |  Examples\n |  --------\n |  >>> from sklearn.datasets import load_digits\n |  >>> from sklearn.linear_model import Perceptron\n |  >>> X, y = load_digits(return_X_y=True)\n |  >>> clf = Perceptron(tol=1e-3, random_state=0)\n |  >>> clf.fit(X, y)\n |  Perceptron()\n |  >>> clf.score(X, y)\n |  0.939...\n |  \n |  Method resolution order:\n |      Perceptron\n |      sklearn.linear_model._stochastic_gradient.BaseSGDClassifier\n |      sklearn.linear_model._base.LinearClassifierMixin\n |      sklearn.base.ClassifierMixin\n |      sklearn.linear_model._stochastic_gradient.BaseSGD\n |      sklearn.linear_model._base.SparseCoefMixin\n |      sklearn.base.BaseEstimator\n |      sklearn.utils._metadata_requests._MetadataRequester\n |      builtins.object\n |  \n |  Methods defined here:\n |  \n |  __init__(self, *, penalty=None, alpha=0.0001, l1_ratio=0.15, fit_intercept=True, max_iter=1000, tol=0.001, shuffle=True, verbose=0, eta0=1.0, n_jobs=None, random_state=0, early_stopping=False, validation_fraction=0.1, n_iter_no_change=5, class_weight=None, warm_start=False)\n |      Initialize self.  See help(type(self)) for accurate signature.\n |  \n |  set_fit_request(self: sklearn.linear_model._perceptron.Perceptron, *, coef_init: Union[bool, NoneType, str] = '$UNCHANGED$', intercept_init: Union[bool, NoneType, str] = '$UNCHANGED$', sample_weight: Union[bool, NoneType, str] = '$UNCHANGED$') -> sklearn.linear_model._perceptron.Perceptron\n |      Request metadata passed to the ``fit`` method.\n |      \n |      Note that this method is only relevant if\n |      ``enable_metadata_routing=True`` (see :func:`sklearn.set_config`).\n |      Please see :ref:`User Guide <metadata_routing>` on how the routing\n |      mechanism works.\n |      \n |      The options for each parameter are:\n |      \n |      - ``True``: metadata is requested, and passed to ``fit`` if provided. The request is ignored if metadata is not provided.\n |      \n |      - ``False``: metadata is not requested and the meta-estimator will not pass it to ``fit``.\n |      \n |      - ``None``: metadata is not requested, and the meta-estimator will raise an error if the user provides it.\n |      \n |      - ``str``: metadata should be passed to the meta-estimator with this given alias instead of the original name.\n |      \n |      The default (``sklearn.utils.metadata_routing.UNCHANGED``) retains the\n |      existing request. This allows you to change the request for some\n |      parameters and not others.\n |      \n |      .. versionadded:: 1.3\n |      \n |      .. note::\n |          This method is only relevant if this estimator is used as a\n |          sub-estimator of a meta-estimator, e.g. used inside a\n |          :class:`~sklearn.pipeline.Pipeline`. Otherwise it has no effect.\n |      \n |      Parameters\n |      ----------\n |      coef_init : str, True, False, or None,                     default=sklearn.utils.metadata_routing.UNCHANGED\n |          Metadata routing for ``coef_init`` parameter in ``fit``.\n |      \n |      intercept_init : str, True, False, or None,                     default=sklearn.utils.metadata_routing.UNCHANGED\n |          Metadata routing for ``intercept_init`` parameter in ``fit``.\n |      \n |      sample_weight : str, True, False, or None,                     default=sklearn.utils.metadata_routing.UNCHANGED\n |          Metadata routing for ``sample_weight`` parameter in ``fit``.\n |      \n |      Returns\n |      -------\n |      self : object\n |          The updated object.\n |  \n |  set_partial_fit_request(self: sklearn.linear_model._perceptron.Perceptron, *, classes: Union[bool, NoneType, str] = '$UNCHANGED$', sample_weight: Union[bool, NoneType, str] = '$UNCHANGED$') -> sklearn.linear_model._perceptron.Perceptron\n |      Request metadata passed to the ``partial_fit`` method.\n |      \n |      Note that this method is only relevant if\n |      ``enable_metadata_routing=True`` (see :func:`sklearn.set_config`).\n |      Please see :ref:`User Guide <metadata_routing>` on how the routing\n |      mechanism works.\n |      \n |      The options for each parameter are:\n |      \n |      - ``True``: metadata is requested, and passed to ``partial_fit`` if provided. The request is ignored if metadata is not provided.\n |      \n |      - ``False``: metadata is not requested and the meta-estimator will not pass it to ``partial_fit``.\n |      \n |      - ``None``: metadata is not requested, and the meta-estimator will raise an error if the user provides it.\n |      \n |      - ``str``: metadata should be passed to the meta-estimator with this given alias instead of the original name.\n |      \n |      The default (``sklearn.utils.metadata_routing.UNCHANGED``) retains the\n |      existing request. This allows you to change the request for some\n |      parameters and not others.\n |      \n |      .. versionadded:: 1.3\n |      \n |      .. note::\n |          This method is only relevant if this estimator is used as a\n |          sub-estimator of a meta-estimator, e.g. used inside a\n |          :class:`~sklearn.pipeline.Pipeline`. Otherwise it has no effect.\n |      \n |      Parameters\n |      ----------\n |      classes : str, True, False, or None,                     default=sklearn.utils.metadata_routing.UNCHANGED\n |          Metadata routing for ``classes`` parameter in ``partial_fit``.\n |      \n |      sample_weight : str, True, False, or None,                     default=sklearn.utils.metadata_routing.UNCHANGED\n |          Metadata routing for ``sample_weight`` parameter in ``partial_fit``.\n |      \n |      Returns\n |      -------\n |      self : object\n |          The updated object.\n |  \n |  set_score_request(self: sklearn.linear_model._perceptron.Perceptron, *, sample_weight: Union[bool, NoneType, str] = '$UNCHANGED$') -> sklearn.linear_model._perceptron.Perceptron\n |      Request metadata passed to the ``score`` method.\n |      \n |      Note that this method is only relevant if\n |      ``enable_metadata_routing=True`` (see :func:`sklearn.set_config`).\n |      Please see :ref:`User Guide <metadata_routing>` on how the routing\n |      mechanism works.\n |      \n |      The options for each parameter are:\n |      \n |      - ``True``: metadata is requested, and passed to ``score`` if provided. The request is ignored if metadata is not provided.\n |      \n |      - ``False``: metadata is not requested and the meta-estimator will not pass it to ``score``.\n |      \n |      - ``None``: metadata is not requested, and the meta-estimator will raise an error if the user provides it.\n |      \n |      - ``str``: metadata should be passed to the meta-estimator with this given alias instead of the original name.\n |      \n |      The default (``sklearn.utils.metadata_routing.UNCHANGED``) retains the\n |      existing request. This allows you to change the request for some\n |      parameters and not others.\n |      \n |      .. versionadded:: 1.3\n |      \n |      .. note::\n |          This method is only relevant if this estimator is used as a\n |          sub-estimator of a meta-estimator, e.g. used inside a\n |          :class:`~sklearn.pipeline.Pipeline`. Otherwise it has no effect.\n |      \n |      Parameters\n |      ----------\n |      sample_weight : str, True, False, or None,                     default=sklearn.utils.metadata_routing.UNCHANGED\n |          Metadata routing for ``sample_weight`` parameter in ``score``.\n |      \n |      Returns\n |      -------\n |      self : object\n |          The updated object.\n |  \n |  ----------------------------------------------------------------------\n |  Data and other attributes defined here:\n |  \n |  __abstractmethods__ = frozenset()\n |  \n |  __annotations__ = {'_parameter_constraints': <class 'dict'>}\n |  \n |  ----------------------------------------------------------------------\n |  Methods inherited from sklearn.linear_model._stochastic_gradient.BaseSGDClassifier:\n |  \n |  fit(self, X, y, coef_init=None, intercept_init=None, sample_weight=None)\n |      Fit linear model with Stochastic Gradient Descent.\n |      \n |      Parameters\n |      ----------\n |      X : {array-like, sparse matrix}, shape (n_samples, n_features)\n |          Training data.\n |      \n |      y : ndarray of shape (n_samples,)\n |          Target values.\n |      \n |      coef_init : ndarray of shape (n_classes, n_features), default=None\n |          The initial coefficients to warm-start the optimization.\n |      \n |      intercept_init : ndarray of shape (n_classes,), default=None\n |          The initial intercept to warm-start the optimization.\n |      \n |      sample_weight : array-like, shape (n_samples,), default=None\n |          Weights applied to individual samples.\n |          If not provided, uniform weights are assumed. These weights will\n |          be multiplied with class_weight (passed through the\n |          constructor) if class_weight is specified.\n |      \n |      Returns\n |      -------\n |      self : object\n |          Returns an instance of self.\n |  \n |  partial_fit(self, X, y, classes=None, sample_weight=None)\n |      Perform one epoch of stochastic gradient descent on given samples.\n |      \n |      Internally, this method uses ``max_iter = 1``. Therefore, it is not\n |      guaranteed that a minimum of the cost function is reached after calling\n |      it once. Matters such as objective convergence, early stopping, and\n |      learning rate adjustments should be handled by the user.\n |      \n |      Parameters\n |      ----------\n |      X : {array-like, sparse matrix}, shape (n_samples, n_features)\n |          Subset of the training data.\n |      \n |      y : ndarray of shape (n_samples,)\n |          Subset of the target values.\n |      \n |      classes : ndarray of shape (n_classes,), default=None\n |          Classes across all calls to partial_fit.\n |          Can be obtained by via `np.unique(y_all)`, where y_all is the\n |          target vector of the entire dataset.\n |          This argument is required for the first call to partial_fit\n |          and can be omitted in the subsequent calls.\n |          Note that y doesn't need to contain all labels in `classes`.\n |      \n |      sample_weight : array-like, shape (n_samples,), default=None\n |          Weights applied to individual samples.\n |          If not provided, uniform weights are assumed.\n |      \n |      Returns\n |      -------\n |      self : object\n |          Returns an instance of self.\n |  \n |  ----------------------------------------------------------------------\n |  Data and other attributes inherited from sklearn.linear_model._stochastic_gradient.BaseSGDClassifier:\n |  \n |  loss_functions = {'epsilon_insensitive': (<class 'sklearn.linear_model...\n |  \n |  ----------------------------------------------------------------------\n |  Methods inherited from sklearn.linear_model._base.LinearClassifierMixin:\n |  \n |  decision_function(self, X)\n |      Predict confidence scores for samples.\n |      \n |      The confidence score for a sample is proportional to the signed\n |      distance of that sample to the hyperplane.\n |      \n |      Parameters\n |      ----------\n |      X : {array-like, sparse matrix} of shape (n_samples, n_features)\n |          The data matrix for which we want to get the confidence scores.\n |      \n |      Returns\n |      -------\n |      scores : ndarray of shape (n_samples,) or (n_samples, n_classes)\n |          Confidence scores per `(n_samples, n_classes)` combination. In the\n |          binary case, confidence score for `self.classes_[1]` where >0 means\n |          this class would be predicted.\n |  \n |  predict(self, X)\n |      Predict class labels for samples in X.\n |      \n |      Parameters\n |      ----------\n |      X : {array-like, sparse matrix} of shape (n_samples, n_features)\n |          The data matrix for which we want to get the predictions.\n |      \n |      Returns\n |      -------\n |      y_pred : ndarray of shape (n_samples,)\n |          Vector containing the class labels for each sample.\n |  \n |  ----------------------------------------------------------------------\n |  Methods inherited from sklearn.base.ClassifierMixin:\n |  \n |  score(self, X, y, sample_weight=None)\n |      Return the mean accuracy on the given test data and labels.\n |      \n |      In multi-label classification, this is the subset accuracy\n |      which is a harsh metric since you require for each sample that\n |      each label set be correctly predicted.\n |      \n |      Parameters\n |      ----------\n |      X : array-like of shape (n_samples, n_features)\n |          Test samples.\n |      \n |      y : array-like of shape (n_samples,) or (n_samples, n_outputs)\n |          True labels for `X`.\n |      \n |      sample_weight : array-like of shape (n_samples,), default=None\n |          Sample weights.\n |      \n |      Returns\n |      -------\n |      score : float\n |          Mean accuracy of ``self.predict(X)`` w.r.t. `y`.\n |  \n |  ----------------------------------------------------------------------\n |  Data descriptors inherited from sklearn.base.ClassifierMixin:\n |  \n |  __dict__\n |      dictionary for instance variables (if defined)\n |  \n |  __weakref__\n |      list of weak references to the object (if defined)\n |  \n |  ----------------------------------------------------------------------\n |  Methods inherited from sklearn.linear_model._base.SparseCoefMixin:\n |  \n |  densify(self)\n |      Convert coefficient matrix to dense array format.\n |      \n |      Converts the ``coef_`` member (back) to a numpy.ndarray. This is the\n |      default format of ``coef_`` and is required for fitting, so calling\n |      this method is only required on models that have previously been\n |      sparsified; otherwise, it is a no-op.\n |      \n |      Returns\n |      -------\n |      self\n |          Fitted estimator.\n |  \n |  sparsify(self)\n |      Convert coefficient matrix to sparse format.\n |      \n |      Converts the ``coef_`` member to a scipy.sparse matrix, which for\n |      L1-regularized models can be much more memory- and storage-efficient\n |      than the usual numpy.ndarray representation.\n |      \n |      The ``intercept_`` member is not converted.\n |      \n |      Returns\n |      -------\n |      self\n |          Fitted estimator.\n |      \n |      Notes\n |      -----\n |      For non-sparse models, i.e. when there are not many zeros in ``coef_``,\n |      this may actually *increase* memory usage, so use this method with\n |      care. A rule of thumb is that the number of zero elements, which can\n |      be computed with ``(coef_ == 0).sum()``, must be more than 50% for this\n |      to provide significant benefits.\n |      \n |      After calling this method, further fitting with the partial_fit\n |      method (if any) will not work until you call densify.\n |  \n |  ----------------------------------------------------------------------\n |  Methods inherited from sklearn.base.BaseEstimator:\n |  \n |  __getstate__(self)\n |  \n |  __repr__(self, N_CHAR_MAX=700)\n |      Return repr(self).\n |  \n |  __setstate__(self, state)\n |  \n |  __sklearn_clone__(self)\n |  \n |  get_params(self, deep=True)\n |      Get parameters for this estimator.\n |      \n |      Parameters\n |      ----------\n |      deep : bool, default=True\n |          If True, will return the parameters for this estimator and\n |          contained subobjects that are estimators.\n |      \n |      Returns\n |      -------\n |      params : dict\n |          Parameter names mapped to their values.\n |  \n |  set_params(self, **params)\n |      Set the parameters of this estimator.\n |      \n |      The method works on simple estimators as well as on nested objects\n |      (such as :class:`~sklearn.pipeline.Pipeline`). The latter have\n |      parameters of the form ``<component>__<parameter>`` so that it's\n |      possible to update each component of a nested object.\n |      \n |      Parameters\n |      ----------\n |      **params : dict\n |          Estimator parameters.\n |      \n |      Returns\n |      -------\n |      self : estimator instance\n |          Estimator instance.\n |  \n |  ----------------------------------------------------------------------\n |  Methods inherited from sklearn.utils._metadata_requests._MetadataRequester:\n |  \n |  get_metadata_routing(self)\n |      Get metadata routing of this object.\n |      \n |      Please check :ref:`User Guide <metadata_routing>` on how the routing\n |      mechanism works.\n |      \n |      Returns\n |      -------\n |      routing : MetadataRequest\n |          A :class:`~sklearn.utils.metadata_routing.MetadataRequest` encapsulating\n |          routing information.\n |  \n |  ----------------------------------------------------------------------\n |  Class methods inherited from sklearn.utils._metadata_requests._MetadataRequester:\n |  \n |  __init_subclass__(**kwargs) from abc.ABCMeta\n |      Set the ``set_{method}_request`` methods.\n |      \n |      This uses PEP-487 [1]_ to set the ``set_{method}_request`` methods. It\n |      looks for the information available in the set default values which are\n |      set using ``__metadata_request__*`` class attributes, or inferred\n |      from method signatures.\n |      \n |      The ``__metadata_request__*`` class attributes are used when a method\n |      does not explicitly accept a metadata through its arguments or if the\n |      developer would like to specify a request value for those metadata\n |      which are different from the default ``None``.\n |      \n |      References\n |      ----------\n |      .. [1] https://www.python.org/dev/peps/pep-0487\n\n"
        }
      ],
      "execution_count": 45,
      "metadata": {
        "colab": {
          "base_uri": "https://localhost:8080/"
        },
        "id": "wTbJb7DHZjUC",
        "outputId": "294b6bcf-20a5-41e1-c132-000e1ec4f7ca"
      }
    },
    {
      "cell_type": "code",
      "source": [
        "y_pred = ppn.predict(x_test_std)\n",
        "print('Misclassified examples: %d' % (y_test != y_pred).sum())"
      ],
      "outputs": [
        {
          "output_type": "stream",
          "name": "stdout",
          "text": "Misclassified examples: 1209\n"
        }
      ],
      "execution_count": 46,
      "metadata": {
        "colab": {
          "base_uri": "https://localhost:8080/"
        },
        "id": "mN8rjSgYZlMT",
        "outputId": "46a69761-f06a-4d63-cf84-419d70e857a5"
      }
    },
    {
      "cell_type": "code",
      "source": [
        "from sklearn.metrics import accuracy_score\n",
        "\n",
        "print('Accuracy: %.3f' % accuracy_score(y_test, y_pred))"
      ],
      "outputs": [
        {
          "output_type": "stream",
          "name": "stdout",
          "text": "Accuracy: 0.968\n"
        }
      ],
      "execution_count": 47,
      "metadata": {
        "colab": {
          "base_uri": "https://localhost:8080/"
        },
        "id": "VGoQUpK4Zonb",
        "outputId": "51ab78c3-a8ee-4d2b-a38a-7d829837d418"
      }
    },
    {
      "cell_type": "code",
      "source": [
        "print('Accuracy: %.3f' % ppn.score(x_test_std, y_test))"
      ],
      "outputs": [
        {
          "output_type": "stream",
          "name": "stdout",
          "text": "Accuracy: 0.968\n"
        }
      ],
      "execution_count": 48,
      "metadata": {
        "colab": {
          "base_uri": "https://localhost:8080/"
        },
        "id": "QwU7LanKZrsq",
        "outputId": "b5a1cd59-4628-4694-c380-a27aabbfe37c"
      }
    },
    {
      "cell_type": "code",
      "source": [
        "from matplotlib.colors import ListedColormap\n",
        "import matplotlib.pyplot as plt\n",
        "\n",
        "\n",
        "def plot_decision_regions(X, y, classifier, test_idx=None, resolution=0.02):\n",
        "\n",
        "    # setup marker generator and color map\n",
        "    markers = ('s', 'x', 'o', '^', 'v')\n",
        "    colors = ('red', 'blue', 'lightgreen', 'gray', 'cyan')\n",
        "    cmap = ListedColormap(colors[:len(np.unique(y))])\n",
        "\n",
        "    # plot the decision surface\n",
        "    x1_min, x1_max = X[:, 0].min() - 1, X[:, 0].max() + 1\n",
        "    x2_min, x2_max = X[:, 1].min() - 1, X[:, 1].max() + 1\n",
        "    xx1, xx2 = np.meshgrid(np.arange(x1_min, x1_max, resolution),\n",
        "                           np.arange(x2_min, x2_max, resolution))\n",
        "    Z = classifier.predict(np.array([xx1.ravel(), xx2.ravel()]).T)\n",
        "    Z = Z.reshape(xx1.shape)\n",
        "    plt.contourf(xx1, xx2, Z, alpha=0.3, cmap=cmap)\n",
        "    plt.xlim(xx1.min(), xx1.max())\n",
        "    plt.ylim(xx2.min(), xx2.max())\n",
        "\n",
        "    for idx, cl in enumerate(np.unique(y)):\n",
        "        plt.scatter(x=X[y == cl, 0],\n",
        "                    y=X[y == cl, 1],\n",
        "                    alpha=0.8,\n",
        "                    c=colors[idx],\n",
        "                    marker=markers[idx],\n",
        "                    label=cl,\n",
        "                    edgecolor='black')\n",
        "\n",
        "    # highlight test examples\n",
        "    if test_idx:\n",
        "        # plot all examples\n",
        "        X_test, y_test = X[test_idx, :], y[test_idx]\n",
        "\n",
        "        plt.scatter(X_test[:, 0],\n",
        "                    X_test[:, 1],\n",
        "                    c='',\n",
        "                    edgecolor='black',\n",
        "                    alpha=1.0,\n",
        "                    linewidth=1,\n",
        "                    marker='o',\n",
        "                    s=100,\n",
        "                    label='test set')"
      ],
      "outputs": [],
      "execution_count": 49,
      "metadata": {
        "id": "Fh6ntSuQZtvK"
      }
    },
    {
      "cell_type": "code",
      "source": [
        "X_combined_std = np.vstack((x_train_std, x_test_std))\n",
        "y_combined = np.hstack((y_train, y_test))"
      ],
      "outputs": [],
      "execution_count": 50,
      "metadata": {
        "id": "MBaJ1LWTZxRy"
      }
    },
    {
      "cell_type": "code",
      "source": [
        "import matplotlib.pyplot as plt\n",
        "import numpy as np\n",
        "\n",
        "\n",
        "def sigmoid(z):\n",
        "    return 1.0 / (1.0 + np.exp(-z))\n",
        "\n",
        "z = np.arange(-7, 7, 0.1)\n",
        "phi_z = sigmoid(z)\n",
        "\n",
        "plt.plot(z, phi_z)\n",
        "plt.axvline(0.0, color='k')\n",
        "plt.ylim(-0.1, 1.1)\n",
        "plt.xlabel('z')\n",
        "plt.ylabel('$\\phi (z)$')\n",
        "\n",
        "# y axis ticks and gridline\n",
        "plt.yticks([0.0, 0.5, 1.0])\n",
        "ax = plt.gca()\n",
        "ax.yaxis.grid(True)\n",
        "\n",
        "plt.tight_layout()\n",
        "#plt.savefig('images/03_02.png', dpi=300)\n",
        "plt.show()"
      ],
      "outputs": [
        {
          "output_type": "display_data",
          "data": {
            "text/plain": "<Figure size 640x480 with 1 Axes>",
            "image/png": "[encoded data removed]"
          },
          "metadata": {}
        }
      ],
      "execution_count": 51,
      "metadata": {
        "colab": {
          "base_uri": "https://localhost:8080/",
          "height": 487
        },
        "id": "em1kx7n7Z08S",
        "outputId": "51734e11-63ca-43e0-ffba-4ce4934f8dac"
      }
    },
    {
      "cell_type": "code",
      "source": [
        "def cost_1(z):\n",
        "    return - np.log(sigmoid(z))\n",
        "\n",
        "\n",
        "def cost_0(z):\n",
        "    return - np.log(1 - sigmoid(z))\n",
        "\n",
        "z = np.arange(-10, 10, 0.1)\n",
        "phi_z = sigmoid(z)\n",
        "\n",
        "c1 = [cost_1(x) for x in z]\n",
        "plt.plot(phi_z, c1, label='J(w) if y=1')\n",
        "\n",
        "c0 = [cost_0(x) for x in z]\n",
        "plt.plot(phi_z, c0, linestyle='--', label='J(w) if y=0')\n",
        "\n",
        "plt.ylim(0.0, 5.1)\n",
        "plt.xlim([0, 1])\n",
        "plt.xlabel('$\\phi$(z)')\n",
        "plt.ylabel('J(w)')\n",
        "plt.legend(loc='best')\n",
        "plt.tight_layout()\n",
        "#plt.savefig('images/03_04.png', dpi=300)\n",
        "plt.show()"
      ],
      "outputs": [
        {
          "output_type": "display_data",
          "data": {
            "text/plain": "<Figure size 640x480 with 1 Axes>",
            "image/png": "[encoded data removed]"
          },
          "metadata": {}
        }
      ],
      "execution_count": 52,
      "metadata": {
        "colab": {
          "base_uri": "https://localhost:8080/",
          "height": 487
        },
        "id": "e2Ci6VtiZ2Oy",
        "outputId": "0d76d0bc-d004-44cb-ff5a-72b8ba6180d6"
      }
    },
    {
      "cell_type": "code",
      "source": [
        "class LogisticRegressionGD(object):\n",
        "    \"\"\"Logistic Regression Classifier using gradient descent.\n",
        "\n",
        "    Parameters\n",
        "    ------------\n",
        "    eta : float\n",
        "      Learning rate (between 0.0 and 1.0)\n",
        "    n_iter : int\n",
        "      Passes over the training dataset.\n",
        "    random_state : int\n",
        "      Random number generator seed for random weight\n",
        "      initialization.\n",
        "\n",
        "\n",
        "    Attributes\n",
        "    -----------\n",
        "    w_ : 1d-array\n",
        "      Weights after fitting.\n",
        "    cost_ : list\n",
        "      Logistic cost function value in each epoch.\n",
        "\n",
        "    \"\"\"\n",
        "    def __init__(self, eta=0.05, n_iter=100, random_state=1):\n",
        "        self.eta = eta\n",
        "        self.n_iter = n_iter\n",
        "        self.random_state = random_state\n",
        "\n",
        "    def fit(self, X, y):\n",
        "        \"\"\" Fit training data.\n",
        "\n",
        "        Parameters\n",
        "        ----------\n",
        "        X : {array-like}, shape = [n_examples, n_features]\n",
        "          Training vectors, where n_examples is the number of examples and\n",
        "          n_features is the number of features.\n",
        "        y : array-like, shape = [n_examples]\n",
        "          Target values.\n",
        "\n",
        "        Returns\n",
        "        -------\n",
        "        self : object\n",
        "\n",
        "        \"\"\"\n",
        "        rgen = np.random.RandomState(self.random_state)\n",
        "        self.w_ = rgen.normal(loc=0.0, scale=0.01, size=1 + X.shape[1])\n",
        "        self.cost_ = []\n",
        "\n",
        "        for i in range(self.n_iter):\n",
        "            net_input = self.net_input(X)\n",
        "            output = self.activation(net_input)\n",
        "            errors = (y - output)\n",
        "            self.w_[1:] += self.eta * X.T.dot(errors)\n",
        "            self.w_[0] += self.eta * errors.sum()\n",
        "\n",
        "            # note that we compute the logistic `cost` now\n",
        "            # instead of the sum of squared errors cost\n",
        "            cost = -y.dot(np.log(output)) - ((1 - y).dot(np.log(1 - output)))\n",
        "            self.cost_.append(cost)\n",
        "        return self\n",
        "\n",
        "    def net_input(self, X):\n",
        "        \"\"\"Calculate net input\"\"\"\n",
        "        return np.dot(X, self.w_[1:]) + self.w_[0]\n",
        "\n",
        "    def activation(self, z):\n",
        "        \"\"\"Compute logistic sigmoid activation\"\"\"\n",
        "        return 1. / (1. + np.exp(-np.clip(z, -250, 250)))\n",
        "\n",
        "    def predict(self, X):\n",
        "        \"\"\"Return class label after unit step\"\"\"\n",
        "        return np.where(self.net_input(X) >= 0.0, 1, 0)\n",
        "        # equivalent to:\n",
        "        # return np.where(self.activation(self.net_input(X)) >= 0.5, 1, 0)"
      ],
      "outputs": [],
      "execution_count": 53,
      "metadata": {
        "id": "EKwMnytxZ5QC"
      }
    },
    {
      "cell_type": "code",
      "source": [
        "X_train_01_subset = x_train_std[(y_train == 0) | (y_train == 1)]\n",
        "y_train_01_subset = y_train[(y_train == 0) | (y_train == 1)]\n",
        "\n",
        "lrgd = LogisticRegressionGD(eta=0.05, n_iter=1000, random_state=1)\n",
        "lrgd.fit(X_train_01_subset,\n",
        "         y_train_01_subset)"
      ],
      "outputs": [
        {
          "output_type": "execute_result",
          "execution_count": 55,
          "data": {
            "text/plain": "<__main__.LogisticRegressionGD at 0x7de421b26b30>"
          },
          "metadata": {}
        }
      ],
      "execution_count": 55,
      "metadata": {
        "colab": {
          "base_uri": "https://localhost:8080/"
        },
        "id": "q6qODJPHZ8oy",
        "outputId": "30d4abd7-79cd-4537-fb28-0c92a2dce4bc"
      }
    },
    {
      "cell_type": "code",
      "source": [
        "from sklearn.linear_model import LogisticRegression\n",
        "\n",
        "lr = LogisticRegression(C=100.0, random_state=1, solver='lbfgs', multi_class='ovr')\n",
        "lr.fit(x_train_std, y_train)\n"
      ],
      "outputs": [
        {
          "output_type": "execute_result",
          "execution_count": 56,
          "data": {
            "text/plain": "LogisticRegression(C=100.0, multi_class='ovr', random_state=1)",
            "text/html": "<style>#sk-container-id-3 {color: black;}#sk-container-id-3 pre{padding: 0;}#sk-container-id-3 div.sk-toggleable {background-color: white;}#sk-container-id-3 label.sk-toggleable__label {cursor: pointer;display: block;width: 100%;margin-bottom: 0;padding: 0.3em;box-sizing: border-box;text-align: center;}#sk-container-id-3 label.sk-toggleable__label-arrow:before {content: \"▸\";float: left;margin-right: 0.25em;color: #696969;}#sk-container-id-3 label.sk-toggleable__label-arrow:hover:before {color: black;}#sk-container-id-3 div.sk-estimator:hover label.sk-toggleable__label-arrow:before {color: black;}#sk-container-id-3 div.sk-toggleable__content {max-height: 0;max-width: 0;overflow: hidden;text-align: left;background-color: #f0f8ff;}#sk-container-id-3 div.sk-toggleable__content pre {margin: 0.2em;color: black;border-radius: 0.25em;background-color: #f0f8ff;}#sk-container-id-3 input.sk-toggleable__control:checked~div.sk-toggleable__content {max-height: 200px;max-width: 100%;overflow: auto;}#sk-container-id-3 input.sk-toggleable__control:checked~label.sk-toggleable__label-arrow:before {content: \"▾\";}#sk-container-id-3 div.sk-estimator input.sk-toggleable__control:checked~label.sk-toggleable__label {background-color: #d4ebff;}#sk-container-id-3 div.sk-label input.sk-toggleable__control:checked~label.sk-toggleable__label {background-color: #d4ebff;}#sk-container-id-3 input.sk-hidden--visually {border: 0;clip: rect(1px 1px 1px 1px);clip: rect(1px, 1px, 1px, 1px);height: 1px;margin: -1px;overflow: hidden;padding: 0;position: absolute;width: 1px;}#sk-container-id-3 div.sk-estimator {font-family: monospace;background-color: #f0f8ff;border: 1px dotted black;border-radius: 0.25em;box-sizing: border-box;margin-bottom: 0.5em;}#sk-container-id-3 div.sk-estimator:hover {background-color: #d4ebff;}#sk-container-id-3 div.sk-parallel-item::after {content: \"\";width: 100%;border-bottom: 1px solid gray;flex-grow: 1;}#sk-container-id-3 div.sk-label:hover label.sk-toggleable__label {background-color: #d4ebff;}#sk-container-id-3 div.sk-serial::before {content: \"\";position: absolute;border-left: 1px solid gray;box-sizing: border-box;top: 0;bottom: 0;left: 50%;z-index: 0;}#sk-container-id-3 div.sk-serial {display: flex;flex-direction: column;align-items: center;background-color: white;padding-right: 0.2em;padding-left: 0.2em;position: relative;}#sk-container-id-3 div.sk-item {position: relative;z-index: 1;}#sk-container-id-3 div.sk-parallel {display: flex;align-items: stretch;justify-content: center;background-color: white;position: relative;}#sk-container-id-3 div.sk-item::before, #sk-container-id-3 div.sk-parallel-item::before {content: \"\";position: absolute;border-left: 1px solid gray;box-sizing: border-box;top: 0;bottom: 0;left: 50%;z-index: -1;}#sk-container-id-3 div.sk-parallel-item {display: flex;flex-direction: column;z-index: 1;position: relative;background-color: white;}#sk-container-id-3 div.sk-parallel-item:first-child::after {align-self: flex-end;width: 50%;}#sk-container-id-3 div.sk-parallel-item:last-child::after {align-self: flex-start;width: 50%;}#sk-container-id-3 div.sk-parallel-item:only-child::after {width: 0;}#sk-container-id-3 div.sk-dashed-wrapped {border: 1px dashed gray;margin: 0 0.4em 0.5em 0.4em;box-sizing: border-box;padding-bottom: 0.4em;background-color: white;}#sk-container-id-3 div.sk-label label {font-family: monospace;font-weight: bold;display: inline-block;line-height: 1.2em;}#sk-container-id-3 div.sk-label-container {text-align: center;}#sk-container-id-3 div.sk-container {/* jupyter's `normalize.less` sets `[hidden] { display: none; }` but bootstrap.min.css set `[hidden] { display: none !important; }` so we also need the `!important` here to be able to override the default hidden behavior on the sphinx rendered scikit-learn.org. See: https://github.com/scikit-learn/scikit-learn/issues/21755 */display: inline-block !important;position: relative;}#sk-container-id-3 div.sk-text-repr-fallback {display: none;}</style><div id=\"sk-container-id-3\" class=\"sk-top-container\"><div class=\"sk-text-repr-fallback\"><pre>LogisticRegression(C=100.0, multi_class=&#x27;ovr&#x27;, random_state=1)</pre><b>In a Jupyter environment, please rerun this cell to show the HTML representation or trust the notebook. <br />On GitHub, the HTML representation is unable to render, please try loading this page with nbviewer.org.</b></div><div class=\"sk-container\" hidden><div class=\"sk-item\"><div class=\"sk-estimator sk-toggleable\"><input class=\"sk-toggleable__control sk-hidden--visually\" id=\"sk-estimator-id-3\" type=\"checkbox\" checked><label for=\"sk-estimator-id-3\" class=\"sk-toggleable__label sk-toggleable__label-arrow\">LogisticRegression</label><div class=\"sk-toggleable__content\"><pre>LogisticRegression(C=100.0, multi_class=&#x27;ovr&#x27;, random_state=1)</pre></div></div></div></div></div>"
          },
          "metadata": {}
        }
      ],
      "execution_count": 56,
      "metadata": {
        "colab": {
          "base_uri": "https://localhost:8080/",
          "height": 75
        },
        "id": "2Zywb7RcaM9q",
        "outputId": "168a5182-2cc8-4961-a8e7-afd6db654d44"
      }
    },
    {
      "cell_type": "code",
      "source": [
        "lr.predict_proba(x_test_std[:3, :])"
      ],
      "outputs": [
        {
          "output_type": "execute_result",
          "execution_count": 57,
          "data": {
            "text/plain": "array([[9.98038461e-01, 1.96153891e-03],\n       [3.12017079e-12, 1.00000000e+00],\n       [2.23679663e-01, 7.76320337e-01]])"
          },
          "metadata": {}
        }
      ],
      "execution_count": 57,
      "metadata": {
        "colab": {
          "base_uri": "https://localhost:8080/"
        },
        "id": "eFYWkdd5aQdq",
        "outputId": "006fb2e0-9748-4549-bb71-396b76dc76e3"
      }
    },
    {
      "cell_type": "code",
      "source": [
        "lr.predict_proba(x_test_std[:3, :]).sum(axis=1)"
      ],
      "outputs": [
        {
          "output_type": "execute_result",
          "execution_count": 58,
          "data": {
            "text/plain": "array([1., 1., 1.])"
          },
          "metadata": {}
        }
      ],
      "execution_count": 58,
      "metadata": {
        "colab": {
          "base_uri": "https://localhost:8080/"
        },
        "id": "1V-SpNicaTPK",
        "outputId": "6506e191-1fb7-4308-bd0b-f4ac2bec016e"
      }
    },
    {
      "cell_type": "code",
      "source": [
        "lr.predict_proba(x_test_std[:3, :]).argmax(axis=1)"
      ],
      "outputs": [
        {
          "output_type": "execute_result",
          "execution_count": 59,
          "data": {
            "text/plain": "array([0, 1, 1])"
          },
          "metadata": {}
        }
      ],
      "execution_count": 59,
      "metadata": {
        "colab": {
          "base_uri": "https://localhost:8080/"
        },
        "id": "V4acUJXzaVSq",
        "outputId": "c9f174a6-c664-437e-d53c-0060a434f7af"
      }
    },
    {
      "cell_type": "code",
      "source": [
        "lr.predict(x_test_std[:3, :])"
      ],
      "outputs": [
        {
          "output_type": "execute_result",
          "execution_count": 60,
          "data": {
            "text/plain": "array([0., 1., 1.])"
          },
          "metadata": {}
        }
      ],
      "execution_count": 60,
      "metadata": {
        "colab": {
          "base_uri": "https://localhost:8080/"
        },
        "id": "0q6bUiOuaZKK",
        "outputId": "1008d96f-9917-483a-a4f8-3835a3df5cb2"
      }
    },
    {
      "cell_type": "code",
      "source": [
        "lr.predict(x_test_std[0, :].reshape(1, -1))"
      ],
      "outputs": [
        {
          "output_type": "execute_result",
          "execution_count": 61,
          "data": {
            "text/plain": "array([0.])"
          },
          "metadata": {}
        }
      ],
      "execution_count": 61,
      "metadata": {
        "colab": {
          "base_uri": "https://localhost:8080/"
        },
        "id": "wHu16TaPakUG",
        "outputId": "063dfba1-d4e8-40f0-aaa0-743ff3fe34c2"
      }
    },
    {
      "cell_type": "code",
      "source": [
        "lr.predict(x_test_std)"
      ],
      "outputs": [
        {
          "output_type": "execute_result",
          "execution_count": 62,
          "data": {
            "text/plain": "array([0., 1., 1., ..., 0., 0., 1.])"
          },
          "metadata": {}
        }
      ],
      "execution_count": 62,
      "metadata": {
        "colab": {
          "base_uri": "https://localhost:8080/"
        },
        "id": "p8yVtdEzamfe",
        "outputId": "c18b3410-aac4-459b-a8d9-08117ca4fe94"
      }
    },
    {
      "cell_type": "code",
      "source": [
        "y_test"
      ],
      "outputs": [
        {
          "output_type": "execute_result",
          "execution_count": 64,
          "data": {
            "text/plain": "83343     0.0\n8846      1.0\n57645     1.0\n99297     1.0\n114105    0.0\n         ... \n12937     0.0\n70856     1.0\n105367    0.0\n116693    0.0\n31475     1.0\nName: class, Length: 37792, dtype: float64",
            "text/html": "<div>\n<style scoped>\n    .dataframe tbody tr th:only-of-type {\n        vertical-align: middle;\n    }\n\n    .dataframe tbody tr th {\n        vertical-align: top;\n    }\n\n    .dataframe thead th {\n        text-align: right;\n    }\n</style>\n<table border=\"1\" class=\"dataframe\">\n  <thead>\n    <tr style=\"text-align: right;\">\n      <th></th>\n      <th>class</th>\n    </tr>\n  </thead>\n  <tbody>\n    <tr>\n      <th>83343</th>\n      <td>0.0</td>\n    </tr>\n    <tr>\n      <th>8846</th>\n      <td>1.0</td>\n    </tr>\n    <tr>\n      <th>57645</th>\n      <td>1.0</td>\n    </tr>\n    <tr>\n      <th>99297</th>\n      <td>1.0</td>\n    </tr>\n    <tr>\n      <th>114105</th>\n      <td>0.0</td>\n    </tr>\n    <tr>\n      <th>...</th>\n      <td>...</td>\n    </tr>\n    <tr>\n      <th>12937</th>\n      <td>0.0</td>\n    </tr>\n    <tr>\n      <th>70856</th>\n      <td>1.0</td>\n    </tr>\n    <tr>\n      <th>105367</th>\n      <td>0.0</td>\n    </tr>\n    <tr>\n      <th>116693</th>\n      <td>0.0</td>\n    </tr>\n    <tr>\n      <th>31475</th>\n      <td>1.0</td>\n    </tr>\n  </tbody>\n</table>\n<p>37792 rows × 1 columns</p>\n</div><br><label><b>dtype:</b> float64</label>"
          },
          "metadata": {}
        }
      ],
      "execution_count": 64,
      "metadata": {
        "colab": {
          "base_uri": "https://localhost:8080/",
          "height": 458
        },
        "id": "F0DATC_bbLlD",
        "outputId": "f261e22e-b55a-463e-8ffc-9f067bd6f409"
      }
    },
    {
      "cell_type": "code",
      "source": [
        "print('Accuracy: %.3f' % accuracy_score(y_test, lr.predict(x_test_std)))"
      ],
      "outputs": [
        {
          "output_type": "stream",
          "name": "stdout",
          "text": "Accuracy: 0.974\n"
        }
      ],
      "execution_count": 63,
      "metadata": {
        "colab": {
          "base_uri": "https://localhost:8080/"
        },
        "id": "s75cNCn7aynK",
        "outputId": "1d8c4d53-a007-40cb-cf57-2fc36938b56d"
      }
    }
  ],
  "metadata": {
    "colab": {
      "provenance": []
    },
    "kernelspec": {
      "name": "python3",
      "display_name": "Python 3"
    },
    "language_info": {
      "name": "python"
    },
    "nteract": {
      "version": "nteract-front-end@1.0.0"
    }
  },
  "nbformat": 4,
  "nbformat_minor": 0
}